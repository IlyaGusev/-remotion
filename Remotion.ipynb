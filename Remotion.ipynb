{
 "cells": [
  {
   "cell_type": "code",
   "execution_count": 4,
   "metadata": {},
   "outputs": [
    {
     "name": "stderr",
     "output_type": "stream",
     "text": [
      "/Library/Frameworks/Python.framework/Versions/3.6/lib/python3.6/site-packages/h5py/__init__.py:36: FutureWarning: Conversion of the second argument of issubdtype from `float` to `np.floating` is deprecated. In future, it will be treated as `np.float64 == np.dtype(float).type`.\n",
      "  from ._conv import register_converters as _register_converters\n",
      "Using TensorFlow backend.\n"
     ]
    },
    {
     "name": "stdout",
     "output_type": "stream",
     "text": [
      "Loading from json...\n",
      "Num of reviews: 312\n",
      "Num of opinions: 4089\n",
      "[<Word \"Добрый\" from 0 to 6 with opinion None at 0x127e0c940>, <Word \"час\" from 7 to 10 with opinion None at 0x127e0cac8>, <Word \"суток\" from 11 to 16 with opinion None at 0x127e0cb00>, <Word \".\" from 16 to 17 with opinion None at 0x127e0cb38>]\n",
      "[<PosTaggedWord \"Добрый\", ADJ#Case=Acc|Degree=Pos|Gender=Masc|Number=Sing, [1, 0, 0, 0, 0, 0, 0, 0, 1, 0, 0, 1, 0, 0, 0, 0, 1, 0, 1, 0, 1, 0, 1, 0, 0, 0, 0, 0, 0, 0, 0, 0, 0, 0, 0, 0, 0, 0, 0, 1, 0, 0, 1, 0, 1, 0, 0, 0, 1, 0, 0, 1] at 0x1266b45f8>, <PosTaggedWord \"час\", NOUN#Case=Nom|Gender=Masc|Number=Sing, [0, 0, 0, 0, 0, 1, 0, 0, 0, 1, 0, 1, 0, 0, 0, 0, 1, 0, 1, 0, 1, 0, 0, 0, 0, 0, 0, 0, 0, 1, 0, 0, 0, 0, 0, 0, 0, 0, 0, 1, 0, 0, 1, 0, 1, 0, 0, 0, 1, 0, 0, 1] at 0x1266b4668>, <PosTaggedWord \"суток\", NOUN#Case=Gen|Number=Plur, [0, 0, 1, 0, 0, 0, 0, 0, 0, 1, 0, 0, 0, 1, 0, 0, 1, 0, 1, 1, 0, 0, 0, 0, 0, 0, 0, 0, 0, 1, 0, 0, 0, 0, 0, 0, 0, 0, 0, 1, 0, 0, 1, 0, 1, 0, 0, 0, 1, 0, 0, 1] at 0x1266b46a0>, <PosTaggedWord \".\", PUNCT#_, [0, 0, 0, 0, 0, 0, 1, 0, 0, 1, 0, 0, 0, 1, 0, 0, 1, 0, 1, 0, 0, 1, 0, 0, 0, 0, 0, 0, 0, 0, 0, 0, 0, 1, 0, 0, 0, 0, 0, 1, 0, 0, 1, 0, 1, 0, 0, 0, 1, 0, 0, 1] at 0x1266b46d8>]\n",
      "Num of reviews: 103\n",
      "Num of opinions: 1300\n",
      "[<Word \"Очень\" from 0 to 5 with opinion None at 0x124b7a668>, <Word \"милый\" from 6 to 11 with opinion None at 0x124b7ad68>, <Word \",\" from 11 to 12 with opinion None at 0x124b7ada0>, <Word \"уютный\" from 13 to 19 with opinion None at 0x124b7add8>, <Word \"ресторанчик\" from 20 to 31 with opinion <Opinion 20:31 AMBIENCE#GENERAL 3 at 0x122aaa908> at 0x124b7ae10>, <Word \"со\" from 32 to 34 with opinion None at 0x124b7ae48>, <Word \"скромными\" from 35 to 44 with opinion None at 0x124b7ae80>, <Word \"ценами\" from 45 to 51 with opinion None at 0x124b7aeb8>, <Word \"за\" from 52 to 54 with opinion None at 0x124b7aef0>, <Word \"огромные\" from 55 to 63 with opinion None at 0x124b7af28>, <Word \"порции\" from 64 to 70 with opinion <Opinion 64:70 FOOD#PRICES 3 at 0x122aaaa90> at 0x124b7af60>, <Word \"вкуснейших\" from 71 to 81 with opinion None at 0x124b7af98>, <Word \"блюд\" from 82 to 86 with opinion <Opinion 82:86 FOOD#QUALITY 3 at 0x122aaab38> at 0x124b7afd0>, <Word \".\" from 86 to 87 with opinion None at 0x124b82048>]\n",
      "[<PosTaggedWord \"Очень\", ADV#Degree=Pos, [0, 0, 0, 0, 0, 0, 1, 0, 1, 0, 0, 0, 0, 1, 0, 0, 1, 0, 1, 0, 0, 1, 0, 0, 1, 0, 0, 0, 0, 0, 0, 0, 0, 0, 0, 0, 0, 0, 0, 1, 0, 0, 1, 0, 1, 0, 0, 0, 1, 0, 0, 1] at 0x122aaa780>, <PosTaggedWord \"милый\", ADJ#Case=Nom|Degree=Pos|Gender=Masc|Number=Sing, [0, 0, 0, 0, 0, 1, 0, 0, 1, 0, 0, 1, 0, 0, 0, 0, 1, 0, 1, 0, 1, 0, 1, 0, 0, 0, 0, 0, 0, 0, 0, 0, 0, 0, 0, 0, 0, 0, 0, 1, 0, 0, 1, 0, 1, 0, 0, 0, 1, 0, 0, 1] at 0x122aaa7f0>, <PosTaggedWord \",\", PUNCT#_, [0, 0, 0, 0, 0, 0, 1, 0, 0, 1, 0, 0, 0, 1, 0, 0, 1, 0, 1, 0, 0, 1, 0, 0, 0, 0, 0, 0, 0, 0, 0, 0, 0, 1, 0, 0, 0, 0, 0, 1, 0, 0, 1, 0, 1, 0, 0, 0, 1, 0, 0, 1] at 0x122aaa828>, <PosTaggedWord \"уютный\", ADJ#Case=Acc|Degree=Pos|Gender=Masc|Number=Sing, [1, 0, 0, 0, 0, 0, 0, 0, 1, 0, 0, 1, 0, 0, 0, 0, 1, 0, 1, 0, 1, 0, 1, 0, 0, 0, 0, 0, 0, 0, 0, 0, 0, 0, 0, 0, 0, 0, 0, 1, 0, 0, 1, 0, 1, 0, 0, 0, 1, 0, 0, 1] at 0x122aaa860>, <PosTaggedWord \"ресторанчик\", NOUN#Case=Nom|Gender=Masc|Number=Sing, [0, 0, 0, 0, 0, 1, 0, 0, 0, 1, 0, 1, 0, 0, 0, 0, 1, 0, 1, 0, 1, 0, 0, 0, 0, 0, 0, 0, 0, 1, 0, 0, 0, 0, 0, 0, 0, 0, 0, 1, 0, 0, 1, 0, 1, 0, 0, 0, 1, 0, 0, 1] at 0x122aaa898>, <PosTaggedWord \"со\", ADP#_, [0, 0, 0, 0, 0, 0, 1, 0, 0, 1, 0, 0, 0, 1, 0, 0, 1, 0, 1, 0, 0, 1, 0, 1, 0, 0, 0, 0, 0, 0, 0, 0, 0, 0, 0, 0, 0, 0, 0, 1, 0, 0, 1, 0, 1, 0, 0, 0, 1, 0, 0, 1] at 0x122aaa710>, <PosTaggedWord \"скромными\", ADJ#Case=Ins|Degree=Pos|Number=Plur, [0, 0, 0, 1, 0, 0, 0, 0, 1, 0, 0, 0, 0, 1, 0, 0, 1, 0, 1, 1, 0, 0, 1, 0, 0, 0, 0, 0, 0, 0, 0, 0, 0, 0, 0, 0, 0, 0, 0, 1, 0, 0, 1, 0, 1, 0, 0, 0, 1, 0, 0, 1] at 0x122aaa940>, <PosTaggedWord \"ценами\", NOUN#Case=Ins|Gender=Fem|Number=Plur, [0, 0, 0, 1, 0, 0, 0, 0, 0, 1, 1, 0, 0, 0, 0, 0, 1, 0, 1, 1, 0, 0, 0, 0, 0, 0, 0, 0, 0, 1, 0, 0, 0, 0, 0, 0, 0, 0, 0, 1, 0, 0, 1, 0, 1, 0, 0, 0, 1, 0, 0, 1] at 0x122aaa978>, <PosTaggedWord \"за\", ADP#_, [0, 0, 0, 0, 0, 0, 1, 0, 0, 1, 0, 0, 0, 1, 0, 0, 1, 0, 1, 0, 0, 1, 0, 1, 0, 0, 0, 0, 0, 0, 0, 0, 0, 0, 0, 0, 0, 0, 0, 1, 0, 0, 1, 0, 1, 0, 0, 0, 1, 0, 0, 1] at 0x122aaa9b0>, <PosTaggedWord \"огромные\", ADJ#Case=Acc|Degree=Pos|Number=Plur, [1, 0, 0, 0, 0, 0, 0, 0, 1, 0, 0, 0, 0, 1, 0, 0, 1, 0, 1, 1, 0, 0, 1, 0, 0, 0, 0, 0, 0, 0, 0, 0, 0, 0, 0, 0, 0, 0, 0, 1, 0, 0, 1, 0, 1, 0, 0, 0, 1, 0, 0, 1] at 0x122aaa9e8>, <PosTaggedWord \"порции\", NOUN#Case=Acc|Gender=Fem|Number=Plur, [1, 0, 0, 0, 0, 0, 0, 0, 0, 1, 1, 0, 0, 0, 0, 0, 1, 0, 1, 1, 0, 0, 0, 0, 0, 0, 0, 0, 0, 1, 0, 0, 0, 0, 0, 0, 0, 0, 0, 1, 0, 0, 1, 0, 1, 0, 0, 0, 1, 0, 0, 1] at 0x122aaaa20>, <PosTaggedWord \"вкуснейших\", ADJ#Case=Gen|Degree=Pos|Number=Plur, [0, 0, 1, 0, 0, 0, 0, 0, 1, 0, 0, 0, 0, 1, 0, 0, 1, 0, 1, 1, 0, 0, 1, 0, 0, 0, 0, 0, 0, 0, 0, 0, 0, 0, 0, 0, 0, 0, 0, 1, 0, 0, 1, 0, 1, 0, 0, 0, 1, 0, 0, 1] at 0x122aaaa58>, <PosTaggedWord \"блюд\", NOUN#Case=Gen|Gender=Neut|Number=Plur, [0, 0, 1, 0, 0, 0, 0, 0, 0, 1, 0, 0, 1, 0, 0, 0, 1, 0, 1, 1, 0, 0, 0, 0, 0, 0, 0, 0, 0, 1, 0, 0, 0, 0, 0, 0, 0, 0, 0, 1, 0, 0, 1, 0, 1, 0, 0, 0, 1, 0, 0, 1] at 0x122aaaac8>, <PosTaggedWord \".\", PUNCT#_, [0, 0, 0, 0, 0, 0, 1, 0, 0, 1, 0, 0, 0, 1, 0, 0, 1, 0, 1, 0, 0, 1, 0, 0, 0, 0, 0, 0, 0, 0, 0, 0, 0, 1, 0, 0, 0, 0, 0, 1, 0, 0, 1, 0, 1, 0, 0, 0, 1, 0, 0, 1] at 0x122aaab00>]\n"
     ]
    }
   ],
   "source": [
    "import os\n",
    "from rnnmorph.data_preparation.grammeme_vectorizer import GrammemeVectorizer\n",
    "\n",
    "from src.absa_parser import Dataset\n",
    "\n",
    "def semeval_get_data(filename):\n",
    "    data = Dataset(filename, \"ru\", \"gram_output.json\")\n",
    "    print(\"Num of reviews: \" + str(len(data.reviews)))\n",
    "    print(\"Num of opinions: \" + str(data.get_opinion_count()))\n",
    "    print(data.tokenized_reviews[0][0])\n",
    "    print(data.pos_tagged_reviews[0][0])\n",
    "    return data\n",
    "\n",
    "TRAIN_FILENAME = \"/Volumes/My Passport/Datasets/Sentiment/ABSA16/ABSA16_Restaurants_Ru_Train.xml\"\n",
    "TEST_FILENAME = \"/Volumes/My Passport/Datasets/Sentiment/ABSA16/ABSA16_Restaurants_Ru_Test.xml\"\n",
    "PICKLED_TRAIN_FILENAME = \"train.json\"\n",
    "PICKLED_TEST_FILENAME = \"test.json\"\n",
    "GRAMMEME_VECTORIZER_FILENAME = \"gram_output.json\"\n",
    "\n",
    "if not os.path.exists(PICKLED_TRAIN_FILENAME) or not os.path.exists(PICKLED_TEST_FILENAME):\n",
    "    print(\"Loading from xml...\")\n",
    "    train_data = semeval_get_data(TRAIN_FILENAME)\n",
    "    test_data = semeval_get_data(TEST_FILENAME)\n",
    "    train_data.save(PICKLED_TRAIN_FILENAME)\n",
    "    test_data.save(PICKLED_TEST_FILENAME)\n",
    "else:\n",
    "    print(\"Loading from json...\")\n",
    "    train_data = semeval_get_data(PICKLED_TRAIN_FILENAME)\n",
    "    test_data = semeval_get_data(PICKLED_TEST_FILENAME)\n",
    "\n",
    "grammeme_vectorizer = GrammemeVectorizer(GRAMMEME_VECTORIZER_FILENAME)\n",
    "vocabulary = train_data.get_vocabulary()"
   ]
  },
  {
   "cell_type": "code",
   "execution_count": null,
   "metadata": {
    "scrolled": false
   },
   "outputs": [],
   "source": [
    "from scipy.sparse import hstack, csr_matrix\n",
    "from sklearn.feature_extraction.text import CountVectorizer, TfidfVectorizer\n",
    "from sklearn.pipeline import Pipeline\n",
    "from sklearn.model_selection import GridSearchCV\n",
    "from sklearn.svm import LinearSVC\n",
    "from sklearn.metrics import roc_auc_score, make_scorer, accuracy_score\n",
    "\n",
    "def form_text_vectorizer(reviews):\n",
    "    vectorizer = TfidfVectorizer(ngram_range=(1, 1))\n",
    "    all_texts = []\n",
    "    for review in reviews:\n",
    "        for sentence in review:\n",
    "            words = [word.text for word in sentence]\n",
    "            text = \" \".join(words)\n",
    "            all_texts.append(text)\n",
    "    vectorizer.fit(all_texts)\n",
    "    return vectorizer\n",
    "\n",
    "def form_context_samples(reviews, pos_vector_size, context_window):\n",
    "    text_vectorizer = form_text_vectorizer(reviews)\n",
    "    all_texts = []\n",
    "    all_pos_vectors = []\n",
    "    target = []\n",
    "    for review in reviews:\n",
    "        for sentence in review:\n",
    "            for i, word in enumerate(sentence):\n",
    "                left_padding = context_window - i\n",
    "                right_padding = i + 1 + context_window - len(sentence)\n",
    "                \n",
    "                begin = i - context_window if left_padding <= 0 else 0\n",
    "                end = i + 1 + context_window if right_padding <= 0 else len(sentence)\n",
    "                text = \" \".join([word.text for word in sentence[begin:end]])\n",
    "                if text != '':\n",
    "                    target.append(int(word.is_colored()))\n",
    "                    all_texts.append(text)\n",
    "\n",
    "                psos = [word.vector for word in sentence[begin:end]]\n",
    "                vectorized_pos = [elem for vector in psos for elem in vector]\n",
    "                if left_padding > 0:\n",
    "                    vectorized_pos = [0 for _ in range(left_padding * pos_vector_size)] + vectorized_pos\n",
    "                if right_padding > 0:\n",
    "                    vectorized_pos = vectorized_pos + [0 for _ in range(right_padding * pos_vector_size)]\n",
    "                all_pos_vectors.append(vectorized_pos)\n",
    "            \n",
    "    all_pos_vectors = csr_matrix(all_pos_vectors)\n",
    "    vectorized_texts = text_vectorizer.transform(all_texts)\n",
    "    \n",
    "    return hstack([vectorized_texts, all_pos_vectors]), target\n",
    "\n",
    "X, y = form_context_samples(train_data.pos_tagged_reviews, \n",
    "                            grammeme_vectorizer.grammemes_count(), 1)\n",
    "print(X.shape)\n",
    "print(sum(y))\n",
    "\n",
    "pipe = Pipeline([('clf', LinearSVC())])\n",
    "param_grid = [{'clf__C': [1, 10, 100, 1000]}]\n",
    "grid = GridSearchCV(pipe, scoring=make_scorer(roc_auc_score), cv=5, param_grid=param_grid)\n",
    "grid.fit(X, y)\n",
    "print(grid.cv_results_['mean_test_score'])"
   ]
  },
  {
   "cell_type": "code",
   "execution_count": 3,
   "metadata": {
    "scrolled": true
   },
   "outputs": [
    {
     "name": "stdout",
     "output_type": "stream",
     "text": [
      "Parsed words: 0, intersection: 0, unknown words:8578\n",
      "Parsed words: 100000, intersection: 5628, unknown words:2950\n",
      "Parsed words: 200000, intersection: 6219, unknown words:2359\n",
      "Parsed words: 300000, intersection: 6449, unknown words:2129\n",
      "Parsed words: 400000, intersection: 6543, unknown words:2035\n",
      "Parsed words: 500000, intersection: 6615, unknown words:1963\n",
      "Parsed words: 600000, intersection: 6651, unknown words:1927\n",
      "Parsed words: 700000, intersection: 6681, unknown words:1897\n"
     ]
    }
   ],
   "source": [
    "from src.embeddings import shrink_w2v\n",
    "shrink_w2v(\"/Volumes/My Passport/Models/russian-big-w2v.txt\", vocabulary, 6700, \"w2v.txt\")"
   ]
  },
  {
   "cell_type": "code",
   "execution_count": 18,
   "metadata": {},
   "outputs": [
    {
     "name": "stdout",
     "output_type": "stream",
     "text": [
      "Unknown words in w2v.txt: 1878\n",
      "Train loss: 550.6564365625381, val loss: 589.6675605773926, val roc_auc: 0.7227952451592058\n",
      "Train loss: 472.3238750696182, val loss: 506.7734603881836, val roc_auc: 0.8778208214399835\n",
      "Train loss: 410.6841461658478, val loss: 450.0780601501465, val roc_auc: 0.9413540701587149\n",
      "Train loss: 382.127826154232, val loss: 435.3472709655762, val roc_auc: 0.9518035941569511\n",
      "Train loss: 373.9046055674553, val loss: 430.38434982299805, val roc_auc: 0.9552744217555924\n",
      "Train loss: 369.2339761853218, val loss: 427.72251892089844, val roc_auc: 0.9570651184336659\n",
      "Train loss: 366.8809938430786, val loss: 426.4794120788574, val roc_auc: 0.9576378066609899\n",
      "Train loss: 364.18328112363815, val loss: 425.51363372802734, val roc_auc: 0.9585317045915024\n",
      "Train loss: 362.4456470608711, val loss: 425.20157623291016, val roc_auc: 0.9587025180877099\n"
     ]
    }
   ],
   "source": [
    "from src.train import train_model\n",
    "\n",
    "model = train_model(train_data.pos_tagged_reviews, \n",
    "                    vocabulary, \n",
    "                    grammeme_vectorizer.grammemes_count(), \n",
    "                    epochs=9, \n",
    "                    rnn_size=32, \n",
    "                    gram_hidden_size=16,\n",
    "                    n_layers=2,\n",
    "                    val_size=0.2)"
   ]
  },
  {
   "cell_type": "code",
   "execution_count": 19,
   "metadata": {},
   "outputs": [
    {
     "name": "stderr",
     "output_type": "stream",
     "text": [
      "/Library/Frameworks/Python.framework/Versions/3.6/lib/python3.6/site-packages/sklearn/metrics/classification.py:1137: UndefinedMetricWarning: F-score is ill-defined and being set to 0.0 due to no true samples.\n",
      "  'recall', 'true', average, warn_for)\n",
      "No handles with labels found to put in legend.\n"
     ]
    },
    {
     "data": {
      "image/png": "[encoded data removed]",
      "text/plain": [
       "<Figure size 432x288 with 1 Axes>"
      ]
     },
     "metadata": {},
     "output_type": "display_data"
    },
    {
     "data": {
      "image/png": "[encoded data removed]",
      "text/plain": [
       "<Figure size 432x288 with 1 Axes>"
      ]
     },
     "metadata": {},
     "output_type": "display_data"
    },
    {
     "data": {
      "image/png": "[encoded data removed]",
      "text/plain": [
       "<Figure size 432x288 with 1 Axes>"
      ]
     },
     "metadata": {},
     "output_type": "display_data"
    },
    {
     "name": "stdout",
     "output_type": "stream",
     "text": [
      "Test loss: 850.6273193359375, roc auc: 0.9306395956159387, threshold: 0.09562665969133377, f1: 0.5917808219178082, f-macro: 0.5301545129786132\n"
     ]
    }
   ],
   "source": [
    "%matplotlib inline\n",
    "import torch\n",
    "import numpy as np\n",
    "from sklearn.metrics import f1_score, roc_auc_score\n",
    "\n",
    "from src.model import load_model\n",
    "from src.train import get_batches, do_epoch\n",
    "from src.metrics import plot_roc_auc, plot_precision_recall, plot_f1, choose_threshold_by_f1\n",
    "\n",
    "def test_model(model, test_data, vocabulary, gram_vector_size, batch_size=128, max_length=40):\n",
    "    use_cuda = torch.cuda.is_available()\n",
    "    criterion = torch.nn.BCELoss(size_average=False)\n",
    "    test_loss = 0\n",
    "    test_count = 0\n",
    "    all_y = []\n",
    "    all_pred = []\n",
    "    f1s = []\n",
    "    test_batches = get_batches(test_data, vocabulary, gram_vector_size, batch_size, max_length)\n",
    "    for text_batch, gram_batch, y in test_batches:\n",
    "        model.eval()\n",
    "        loss, predictions = do_epoch(model, criterion, text_batch, gram_batch, y, use_cuda)\n",
    "        test_loss += loss\n",
    "        test_count += 1\n",
    "\n",
    "        lengths = []\n",
    "        for i in range(text_batch.size(0)):\n",
    "            lengths.append(sum([int(elem != 0) for elem in text_batch[i].data]))\n",
    "        for i in range(y.size(0)):\n",
    "            review_y = list(y.data[i])[:lengths[i]]\n",
    "            review_pred = list(predictions.data[i])[:lengths[i]]\n",
    "            f1s.append(f1_score(review_y, [int(e > 0.0894) for e in review_pred]))\n",
    "            all_y += review_y\n",
    "            all_pred += review_pred\n",
    "    plot_roc_auc(all_y, all_pred)\n",
    "    plot_precision_recall(all_y, all_pred)\n",
    "    plot_f1(all_y, all_pred)\n",
    "    threshold = choose_threshold_by_f1(all_y, all_pred)\n",
    "    all_pred_round = [int(e > threshold) for e in all_pred]\n",
    "    print(\"Test loss: {test_loss}, roc auc: {roc_auc}, threshold: {threshold}, f1: {f1}, f-macro: {f_macro}\".format(\n",
    "        test_loss = test_loss/test_count,\n",
    "        roc_auc = roc_auc_score(all_y, all_pred),\n",
    "        f1 = f1_score(all_y, all_pred_round),\n",
    "        f_macro = sum(f1s)/len(f1s),\n",
    "        threshold = threshold\n",
    "    ))\n",
    "\n",
    "model, _ = load_model(\"model.pt\", torch.cuda.is_available())\n",
    "test_model(model, test_data.pos_tagged_reviews, vocabulary, grammeme_vectorizer.grammemes_count())"
   ]
  },
  {
   "cell_type": "code",
   "execution_count": null,
   "metadata": {},
   "outputs": [],
   "source": []
  }
 ],
 "metadata": {
  "kernelspec": {
   "display_name": "Python 3",
   "language": "python",
   "name": "python3"
  }
 },
 "nbformat": 4,
 "nbformat_minor": 2
}
