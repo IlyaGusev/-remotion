{
 "cells": [
  {
   "cell_type": "code",
   "execution_count": 1,
   "metadata": {},
   "outputs": [],
   "source": [
    "%load_ext autoreload\n",
    "%autoreload 2"
   ]
  },
  {
   "cell_type": "code",
   "execution_count": 3,
   "metadata": {},
   "outputs": [
    {
     "name": "stdout",
     "output_type": "stream",
     "text": [
      "Overwriting configs/imdb_config.json\n"
     ]
    }
   ],
   "source": [
    "%%writefile configs/imdb_config.json\n",
    "{\n",
    "    \"batch_size\": 8,\n",
    "    \"competition\": \"imdb\",\n",
    "    \"data_config\": {\n",
    "        \"clear_cache\": true,\n",
    "        \"domain\": \"films\",\n",
    "        \"language\": \"en\",\n",
    "        \"test_filename\": \"/media/yallen/My Passport/Datasets/Sentiment/KaggleSA1/KaggleSA1_TestData.tsv\",\n",
    "        \"train_filename\": \"/media/yallen/My Passport/Datasets/Sentiment/KaggleSA1/KaggleSA1_LabeledTrainData.tsv\"\n",
    "    },\n",
    "    \"embeddings_filename\": \"embeddings/imdb-fasttext.txt\",\n",
    "    \"epochs\": 100,\n",
    "    \"lr\": 0.001,\n",
    "    \"max_length\": 2850,\n",
    "    \"model_config\": {\n",
    "        \"additional_features_size\": 1,\n",
    "        \"char_count\": 175,\n",
    "        \"char_dropout_p\": 0.4,\n",
    "        \"char_embedding_dim\": 4,\n",
    "        \"char_function_output_size\": 30,\n",
    "        \"char_max_word_length\": 30,\n",
    "        \"dense_dropout\": 0.4,\n",
    "        \"dense_dropout_p\": 0.3,\n",
    "        \"dense_size\": 32,\n",
    "        \"gram_dropout_p\": 0.4,\n",
    "        \"gram_hidden_size\": 32,\n",
    "        \"gram_vector_size\": 52,\n",
    "        \"is_multi_target\": false,\n",
    "        \"is_sequence_predictor\": false,\n",
    "        \"output_size\": 2,\n",
    "        \"rnn_bidirectional\": true,\n",
    "        \"rnn_dropout_p\": 0.5,\n",
    "        \"rnn_hidden_size\": 32,\n",
    "        \"rnn_n_layers\": 2,\n",
    "        \"rnn_output_dropout_p\": 0.4,\n",
    "        \"target_count\": 5,\n",
    "        \"use_additional_features\": false,\n",
    "        \"use_chars\": true,\n",
    "        \"use_crf\": false,\n",
    "        \"use_pos\": false,\n",
    "        \"use_word_embeddings\": true,\n",
    "        \"word_embedding_dim\": 300,\n",
    "        \"word_embedding_dropout_p\": 0.4,\n",
    "        \"word_vocabulary_size\": 104584\n",
    "    },\n",
    "    \"patience\": 2,\n",
    "    \"result_type\": \"csv\",\n",
    "    \"seed\": 42,\n",
    "    \"task_type\": \"clf\",\n",
    "    \"use_pretrained_embedding\": true,\n",
    "    \"val_size\": 0.2,\n",
    "    \"word_max_length\": 30\n",
    "}"
   ]
  },
  {
   "cell_type": "code",
   "execution_count": 4,
   "metadata": {},
   "outputs": [
    {
     "name": "stdout",
     "output_type": "stream",
     "text": [
      "/usr/local/lib/python3.6/dist-packages/h5py/__init__.py:36: FutureWarning: Conversion of the second argument of issubdtype from `float` to `np.floating` is deprecated. In future, it will be treated as `np.float64 == np.dtype(float).type`.\n",
      "  from ._conv import register_converters as _register_converters\n",
      "Using TensorFlow backend.\n",
      "Num of reviews: 25000\n",
      "Max review length: 2850\n",
      "Num of reviews: 25000\n",
      "Max review length: 2845\n",
      "104584\n",
      " m|¡ó2hÃF\"çëÅ/]ò%`(½êi~8æu&SX–,»'ÉGáQbØIB”}05y°ã¤>ûUrMP£{…4^:$<¢*í1ø’)î3+?åéÄz@o·äDýdºT¨´§jÁN‘Ü[ìAßù!#³Jv¾K“¿n-f\u0010O«úHüðspVèZRÊ6àxôÈ¦qE₤L.7_ōe;Y­âötñalï®Õ9gWckÀC=\\\n",
      "Aspect categories:  0\n",
      "Review categories:  0\n",
      "Use cuda:  True\n",
      "Unknown words in embeddings/imdb-fasttext.txt: 15411\n",
      "RemotionRNN(\n",
      "  (embedding): Embedding(104584, 300)\n",
      "  (embedding_dropout): Dropout(p=0.4)\n",
      "  (char_embedding): Embedding(175, 4)\n",
      "  (char_function): Linear(in_features=120, out_features=30, bias=False)\n",
      "  (char_function_activation): ReLU()\n",
      "  (char_dropout): Dropout(p=0.4)\n",
      "  (rnn): LSTM(330, 32, num_layers=2, dropout=0.5, bidirectional=True)\n",
      "  (rnn_output_dropout): Dropout(p=0.4)\n",
      "  (dense): Linear(in_features=64, out_features=32, bias=False)\n",
      "  (dense_activation): ReLU()\n",
      "  (dense_dropout): Dropout(p=0.3)\n",
      "  (output): Linear(in_features=32, out_features=2, bias=False)\n",
      ")\n",
      "Epoch: 0, train loss: 4.558642568278312, val loss: 3.4546318119049073\n",
      "Epoch: 1, train loss: 3.4334733907699584, val loss: 2.7146159702301027\n",
      "Epoch: 2, train loss: 3.1081632920384408, val loss: 2.616157452964783\n",
      "Epoch: 3, train loss: 3.102012112617493, val loss: 2.4987876757621765\n",
      "Epoch: 4, train loss: 2.924976584160328, val loss: 2.713274089050293\n",
      "Epoch: 5, train loss: 2.8514221392035486, val loss: 2.7217466398239134\n",
      "Epoch: 6, train loss: 2.79552794342041, val loss: 2.9952721652030947\n"
     ]
    }
   ],
   "source": [
    "!python3.6 main.py configs/imdb_config.json"
   ]
  },
  {
   "cell_type": "code",
   "execution_count": null,
   "metadata": {},
   "outputs": [],
   "source": []
  }
 ],
 "metadata": {
  "kernelspec": {
   "display_name": "Python 3",
   "language": "python",
   "name": "python3"
  },
  "language_info": {
   "codemirror_mode": {
    "name": "ipython",
    "version": 3
   },
   "file_extension": ".py",
   "mimetype": "text/x-python",
   "name": "python",
   "nbconvert_exporter": "python",
   "pygments_lexer": "ipython3",
   "version": "3.6.5"
  }
 },
 "nbformat": 4,
 "nbformat_minor": 2
}
