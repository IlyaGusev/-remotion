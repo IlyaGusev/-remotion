{
 "cells": [
  {
   "cell_type": "code",
   "execution_count": 1,
   "metadata": {},
   "outputs": [],
   "source": [
    "%load_ext autoreload\n",
    "%autoreload 2\n",
    "%matplotlib inline"
   ]
  },
  {
   "cell_type": "code",
   "execution_count": 4,
   "metadata": {},
   "outputs": [
    {
     "name": "stdout",
     "output_type": "stream",
     "text": [
      "Overwriting configs/imdb_config.json\n"
     ]
    }
   ],
   "source": [
    "%%writefile configs/imdb_config.json\n",
    "{\n",
    "    \"batch_size\": 64,\n",
    "    \"competition\": \"imdb\",\n",
    "    \"data_config\": {\n",
    "        \"clear_cache\": true,\n",
    "        \"domain\": \"films\",\n",
    "        \"language\": \"en\",\n",
    "        \"test_filename\": \"/media/yallen/My Passport/Datasets/Sentiment/KaggleSA1/KaggleSA1_TestData.tsv\",\n",
    "        \"train_filename\": \"/media/yallen/My Passport/Datasets/Sentiment/KaggleSA1/KaggleSA1_LabeledTrainData.tsv\"\n",
    "    },\n",
    "    \"epochs\": 100,\n",
    "    \"opt_lr\": 1.0, \n",
    "    \"optimizer\": \"adadelta\",\n",
    "    \"model_config\": {\n",
    "        \"additional_features_size\": 1,\n",
    "        \"char_count\": 175,\n",
    "        \"char_dropout_p\": 0.4,\n",
    "        \"char_embedding_dim\": 4,\n",
    "        \"char_function_output_size\": 30,\n",
    "        \"char_max_word_length\": 30,\n",
    "        \"dense_dropout_p\": 0.4,\n",
    "        \"dense_size\": 128,\n",
    "        \"gram_dropout_p\": 0.4,\n",
    "        \"gram_hidden_size\": 32,\n",
    "        \"gram_vector_size\": 52,\n",
    "        \"is_sequence_predictor\": false,\n",
    "        \"output_size\": 2,\n",
    "        \"rnn_bidirectional\": true,\n",
    "        \"rnn_dropout_p\": 0.5,\n",
    "        \"rnn_hidden_size\": 32,\n",
    "        \"rnn_n_layers\": 2,\n",
    "        \"rnn_output_dropout_p\": 0.4,\n",
    "        \"use_additional_features\": false,\n",
    "        \"use_chars\": true,\n",
    "        \"use_crf\": false,\n",
    "        \"use_pos\": false,\n",
    "        \"use_rnn\": false,\n",
    "        \"use_cnn\": true,\n",
    "        \"use_dense\": false,\n",
    "        \"use_word_embeddings\": true,\n",
    "        \"word_embedding_dim\": 300,\n",
    "        \"word_embedding_dropout_p\": 0.4,\n",
    "        \"word_vocabulary_size\": 132705,\n",
    "        \"word_max_count\": 2500  \n",
    "    },\n",
    "    \"patience\": 2,\n",
    "    \"result_type\": \"csv\",\n",
    "    \"experiment\": \"base\",\n",
    "    \"task_type\": \"clf\",\n",
    "    \"use_pretrained_embedding\": true,\n",
    "    \"train_embeddings\": true,\n",
    "    \"lower_vocabulary\": false,\n",
    "    \"embeddings_filename\": \"embeddings/imdb-w2v.txt\",\n",
    "    \"val_size\": 0.1,\n",
    "    \"seed\": 42\n",
    "}"
   ]
  },
  {
   "cell_type": "code",
   "execution_count": 3,
   "metadata": {},
   "outputs": [
    {
     "name": "stdout",
     "output_type": "stream",
     "text": [
      "/usr/local/lib/python3.6/dist-packages/h5py/__init__.py:36: FutureWarning: Conversion of the second argument of issubdtype from `float` to `np.floating` is deprecated. In future, it will be treated as `np.float64 == np.dtype(float).type`.\n",
      "  from ._conv import register_converters as _register_converters\n",
      "Using TensorFlow backend.\n",
      "Num of reviews: 25000\n",
      "Max review length: 2850\n",
      "Num of reviews: 25000\n",
      "Max review length: 2845\n",
      "132705\n",
      " woeaêm[È{/t:b8½M³·r`3«ý^º9î»OY4¡lj¢cùWu°Ø.=+çìÊ­v'óÜ<,A|yÀïōIhid#åpQ1…Ã´xöTP\u0010úñC“k¿L₤é$ã5ø]Õë6æè}\\ß2XH@J£íq(GÉF¤ô0>–;¾¦!äZ~ûü‘BD¨Uz&*EÅð%?”ns7’f\"SNRòÄág§KàÁ®â)_V\n",
      "Aspect categories:  0\n",
      "Review categories:  0\n",
      "Use cuda:  True\n",
      "Unknown words in embeddings/imdb-w2v.txt: 22677\n",
      "RemotionRNN(\n",
      "  (embedding): Embedding(132705, 300)\n",
      "  (embedding_dropout): Dropout(p=0.4)\n",
      "  (char_embedding): Embedding(175, 4)\n",
      "  (char_function): Linear(in_features=120, out_features=30, bias=False)\n",
      "  (char_function_activation): ReLU()\n",
      "  (char_dropout): Dropout(p=0.4)\n",
      "  (cnn): CNN(\n",
      "    (conv1): Sequential(\n",
      "      (0): Conv2d(1, 300, kernel_size=(8, 330), stride=(1, 1))\n",
      "      (1): ReLU()\n",
      "    )\n",
      "    (pool1): MaxPool2d(kernel_size=(2493, 1), stride=(2493, 1), padding=0, dilation=1, ceil_mode=False)\n",
      "  )\n",
      "  (main_output_dropout): Dropout(p=0.4)\n",
      "  (output_layers): ModuleList(\n",
      "    (0): Linear(in_features=300, out_features=2, bias=True)\n",
      "  )\n",
      ")\n",
      "^C\n"
     ]
    }
   ],
   "source": [
    "!python3.6 main.py configs/imdb_config.json"
   ]
  },
  {
   "cell_type": "code",
   "execution_count": null,
   "metadata": {},
   "outputs": [],
   "source": []
  }
 ],
 "metadata": {
  "kernelspec": {
   "display_name": "Python 3",
   "language": "python",
   "name": "python3"
  },
  "language_info": {
   "codemirror_mode": {
    "name": "ipython",
    "version": 3
   },
   "file_extension": ".py",
   "mimetype": "text/x-python",
   "name": "python",
   "nbconvert_exporter": "python",
   "pygments_lexer": "ipython3",
   "version": "3.6.5"
  }
 },
 "nbformat": 4,
 "nbformat_minor": 2
}
